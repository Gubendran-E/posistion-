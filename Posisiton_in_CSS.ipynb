{
  "nbformat": 4,
  "nbformat_minor": 0,
  "metadata": {
    "colab": {
      "provenance": []
    },
    "kernelspec": {
      "name": "python3",
      "display_name": "Python 3"
    },
    "language_info": {
      "name": "python"
    }
  },
  "cells": [
    {
      "cell_type": "code",
      "source": [
        "Write code to position 5 equal-sized (50 X 50px) boxes A, B, C, D, and E as follows box A 200px from the left, and 200px from the top of the viewport box B -30px left, and -30px above from the center of box A box B -30px right, and -30px above from the center of box A box B -30px left, and -30px below from the center of box A box B -30px right, and -30px below from the center of box A."
      ],
      "metadata": {
        "id": "xyYh05JnQGZu"
      },
      "execution_count": null,
      "outputs": []
    },
    {
      "cell_type": "code",
      "source": [
        "<!DOCTYPE html>\n",
        "<html lang=\"en\">\n",
        "<head>\n",
        "    <meta charset=\"UTF-8\">\n",
        "    <meta name=\"viewport\" content=\"width=device-width, initial-scale=1.0\">\n",
        "    <title>Box</title>\n",
        "    <style>\n",
        "        .box {\n",
        "      border: solid: black;\n",
        "      width: 50px;\n",
        "      height: 50px;\n",
        "      position: absolute;\n",
        "      display: flex;\n",
        "      align-items: center;\n",
        "      justify-content: center;\n",
        "      color: white;\n",
        "      font-weight: bold;\n",
        "      font-family: sans-serif;\n",
        "    }\n",
        "    .a {\n",
        "        background-color: blue;\n",
        "        left: 200px;\n",
        "        top: 200px;\n",
        "    }\n",
        "    .b {\n",
        "        background-color: blue;\n",
        "        left: 170px;\n",
        "        top: 170px;\n",
        "    }\n",
        "     .c {\n",
        "        background-color: blue;\n",
        "        left: 230px;\n",
        "        top: 170px;\n",
        "    }\n",
        "     .d {\n",
        "        background-color: blue;\n",
        "        left: 170px;\n",
        "        top: 230px;\n",
        "    }\n",
        "    .e {\n",
        "        background-color: blue;\n",
        "        left: 230px;\n",
        "        top: 230px;\n",
        "    }\n",
        "\n",
        "     </style>\n",
        "</head>\n",
        "<body>\n",
        "    <div>\n",
        "  <div class=\"box a\">A</div>\n",
        "  <div class=\"box b\">B</div>\n",
        "  <div class=\"box c\">C</div>\n",
        "  <div class=\"box d\">D</div>\n",
        "  <div class=\"box e\">E</div>\n",
        "  </div>\n",
        "</body>\n",
        "</html>\n"
      ],
      "metadata": {
        "id": "2aB8NaLXQL72"
      },
      "execution_count": null,
      "outputs": []
    },
    {
      "cell_type": "markdown",
      "source": [
        "Q2.Explain the difference between Absolute and Relative positioning."
      ],
      "metadata": {
        "id": "rpPFTzExQUpE"
      }
    },
    {
      "cell_type": "markdown",
      "source": [
        "**position: relative**\n",
        "1.The element is positioned relative to its normal position in the document flow.\n",
        "\n",
        "2.It doesn't remove the element from the flow (it still takes up space).\n",
        "\n",
        "3.You can move it using top, left, right, or bottom from where it would have been normally.\n",
        "\n",
        "**position: absolute**\n",
        "The element is completely removed from the normal document flow.\n",
        "\n",
        "It is positioned relative to the nearest positioned ancestor (an ancestor with position: relative, absolute, or fixed).\n",
        "\n",
        "If no such ancestor exists, it's positioned relative to the <html>."
      ],
      "metadata": {
        "id": "aBQQ2lDiRSSn"
      }
    },
    {
      "cell_type": "markdown",
      "source": [
        "Q3.Create a card as shown in the picture below. (You can use CSS float property only for layout)."
      ],
      "metadata": {
        "id": "r4veoJ67R5cx"
      }
    },
    {
      "cell_type": "code",
      "source": [
        "<!DOCTYPE html>\n",
        "<html lang=\"en\">\n",
        "<head>\n",
        "    <meta charset=\"UTF-8\">\n",
        "    <meta name=\"viewport\" content=\"width=device-width, initial-scale=1.0\">\n",
        "    <title>Card</title>\n",
        "    <style>\n",
        "    .card {\n",
        "\n",
        "      width: 800px;\n",
        "      border: 1px solid #4f1616;\n",
        "      border-radius: 8px;\n",
        "      overflow: hidden;\n",
        "      font-family: Arial, sans-serif;\n",
        "      margin: 20px; auto;\n",
        "      background-color: bisque;\n",
        "    }\n",
        "        img {\n",
        "            float: right;\n",
        "            height: 150px;\n",
        "            width: 150px;\n",
        "        }\n",
        "    </style>\n",
        "</head>\n",
        "<body>\n",
        "    <div class=\"card\">\n",
        "    <div class=\"Card-container\">\n",
        "    <h2><img src=\"C:\\Users\\AVITA\\Desktop\\pineapple.jpg\" alt=\"pineapple\">The Earth!!!</h2>\n",
        "    <p>\n",
        "        Earth, our home, is the third planet from the Sun and the only known celestial body to support life. It's a dynamic planet with a solid surface, oceans, and a protective atmosphere, constantly changing through geological and biological processes. Earth's unique characteristics, including liquid water and its atmospheric composition, make it habitable. </p>\n",
        "    </div>\n",
        "\n",
        "</body>\n",
        "</html>"
      ],
      "metadata": {
        "id": "GipZ_8jgRxyM"
      },
      "execution_count": null,
      "outputs": []
    }
  ]
}